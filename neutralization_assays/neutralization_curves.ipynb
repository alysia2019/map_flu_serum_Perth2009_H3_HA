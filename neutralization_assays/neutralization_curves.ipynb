{
 "cells": [
  {
   "cell_type": "markdown",
   "metadata": {},
   "source": [
    "# Plot neutralization curves\n",
    "\n",
    "In this notebook we will create neutralization plots from GFP-based neutralization assays. \n",
    "The GFP-based neutralization assay system is described in detail in [Bloom et al (2010)](http://science.sciencemag.org/content/328/5983/1272.long) and [Hooper and Bloom (2013)](https://jvi.asm.org/content/87/23/12531).\n",
    "\n",
    "In brief, we generate by reverse genetics influenza viruses that carry GFP in the PB1 segment. We then quantified using a plate reader the GFP signal produced by MDCK-SIAT1-CMV-PB1 cells infected with PB1flank-eGFP virus that had been incubated with various dilutions of antibody or serum. The neutralization curves represent the mean and standard deviation of three measurements, with each replicate in a separate column of a 96-well plate."
   ]
  },
  {
   "cell_type": "code",
   "execution_count": 1,
   "metadata": {},
   "outputs": [
    {
     "name": "stdout",
     "output_type": "stream",
     "text": [
      "Using neutcurve version 0.1.0\n"
     ]
    }
   ],
   "source": [
    "import os\n",
    "import warnings\n",
    "\n",
    "from IPython.display import display, HTML\n",
    "\n",
    "import numpy\n",
    "\n",
    "import pandas as pd\n",
    "\n",
    "from plotnine import *\n",
    "\n",
    "import yaml\n",
    "\n",
    "import neutcurve\n",
    "from neutcurve.colorschemes import CBPALETTE\n",
    "import neutcurve.parse_excel\n",
    "\n",
    "print(f\"Using neutcurve version {neutcurve.__version__}\")"
   ]
  },
  {
   "cell_type": "code",
   "execution_count": 2,
   "metadata": {},
   "outputs": [],
   "source": [
    "pd.set_option('display.float_format', '{:.3g}'.format)"
   ]
  },
  {
   "cell_type": "code",
   "execution_count": 3,
   "metadata": {},
   "outputs": [],
   "source": [
    "# Hide warnings that can clutter output\n",
    "warnings.simplefilter('ignore')"
   ]
  },
  {
   "cell_type": "markdown",
   "metadata": {},
   "source": [
    "## Configuration and setup\n",
    "Read general configuration from [config.yaml](config.yaml):"
   ]
  },
  {
   "cell_type": "code",
   "execution_count": 16,
   "metadata": {},
   "outputs": [],
   "source": [
    "with open('config.yaml') as f:\n",
    "    config = yaml.safe_load(f)"
   ]
  },
  {
   "cell_type": "markdown",
   "metadata": {},
   "source": [
    "Read the neutralization assay configuration from the specified file:"
   ]
  },
  {
   "cell_type": "code",
   "execution_count": 17,
   "metadata": {},
   "outputs": [
    {
     "name": "stdout",
     "output_type": "stream",
     "text": [
      "Reading neutralization assay setup from data/neut_config.yaml\n"
     ]
    }
   ],
   "source": [
    "print(f\"Reading neutralization assay setup from {config['neut_config']}\")\n",
    "\n",
    "with open(config['neut_config']) as f:\n",
    "    neut_config = yaml.safe_load(f)"
   ]
  },
  {
   "cell_type": "markdown",
   "metadata": {},
   "source": [
    "Get the output directory:"
   ]
  },
  {
   "cell_type": "code",
   "execution_count": null,
   "metadata": {},
   "outputs": [],
   "source": [
    "outdir = config['plot_outdir']\n",
    "os.makedirs(outdir, exist_ok=True)\n",
    "print(f\"Output will be written to {outdir}\")"
   ]
  },
  {
   "cell_type": "markdown",
   "metadata": {},
   "source": [
    "## Read neutralization data\n",
    "\n",
    "Next, for each dict in _neut_config_, we use `neutcurve.parse_excel.parseRachelStyle2019` to create a tidy data frame appropriate for passing to `neutcurve.CurveFits`. We then concatenate all the tidy data frames to get our neutralization data:"
   ]
  },
  {
   "cell_type": "code",
   "execution_count": 15,
   "metadata": {},
   "outputs": [
    {
     "name": "stdout",
     "output_type": "stream",
     "text": [
      "Parsing data for VIDD1...\n",
      "Parsing data for VIDD2...\n",
      "Parsing data for VIDD3...\n",
      "Parsing data for VIDD4...\n",
      "Parsing data for VIDD5...\n",
      "Parsing data for 557v1...\n",
      "Parsing data for 557v2...\n",
      "Parsing data for 574v1...\n",
      "Parsing data for 574v2...\n",
      "Parsing data for 589v2...\n",
      "Parsing data for 571v2...\n",
      "Parsing data for ferret-Pitt-1-postinf...\n",
      "Parsing data for ferret-Pitt-2-postinf...\n",
      "Parsing data for ferret-Pitt-3-postinf...\n",
      "Parsing data for ferret-WHO-Victoria2011...\n"
     ]
    },
    {
     "ename": "ValueError",
     "evalue": "`excelfile` data/neut_plate_reader_data/WHOVic11_NeutralizationAssay.xlsx has the following extra sheets not in `sheet_mapping`: {'F159G', 'K160T'}",
     "output_type": "error",
     "traceback": [
      "\u001b[0;31m---------------------------------------------------------------------------\u001b[0m",
      "\u001b[0;31mValueError\u001b[0m                                Traceback (most recent call last)",
      "\u001b[0;32m<ipython-input-15-2532a362e037>\u001b[0m in \u001b[0;36m<module>\u001b[0;34m\u001b[0m\n\u001b[1;32m      5\u001b[0m     \u001b[0msampleset\u001b[0m\u001b[0;34m,\u001b[0m \u001b[0mkwargs\u001b[0m \u001b[0;34m=\u001b[0m \u001b[0mlist\u001b[0m\u001b[0;34m(\u001b[0m\u001b[0msampledict\u001b[0m\u001b[0;34m.\u001b[0m\u001b[0mitems\u001b[0m\u001b[0;34m(\u001b[0m\u001b[0;34m)\u001b[0m\u001b[0;34m)\u001b[0m\u001b[0;34m[\u001b[0m\u001b[0;36m0\u001b[0m\u001b[0;34m]\u001b[0m\u001b[0;34m\u001b[0m\u001b[0;34m\u001b[0m\u001b[0m\n\u001b[1;32m      6\u001b[0m     \u001b[0mprint\u001b[0m\u001b[0;34m(\u001b[0m\u001b[0;34mf\"Parsing data for {sampleset}...\"\u001b[0m\u001b[0;34m)\u001b[0m\u001b[0;34m\u001b[0m\u001b[0;34m\u001b[0m\u001b[0m\n\u001b[0;32m----> 7\u001b[0;31m     \u001b[0mneutdata\u001b[0m\u001b[0;34m.\u001b[0m\u001b[0mappend\u001b[0m\u001b[0;34m(\u001b[0m\u001b[0mneutcurve\u001b[0m\u001b[0;34m.\u001b[0m\u001b[0mparse_excel\u001b[0m\u001b[0;34m.\u001b[0m\u001b[0mparseRachelStyle2019\u001b[0m\u001b[0;34m(\u001b[0m\u001b[0;34m**\u001b[0m\u001b[0mkwargs\u001b[0m\u001b[0;34m)\u001b[0m\u001b[0;34m)\u001b[0m\u001b[0;34m\u001b[0m\u001b[0;34m\u001b[0m\u001b[0m\n\u001b[0m\u001b[1;32m      8\u001b[0m \u001b[0;34m\u001b[0m\u001b[0m\n\u001b[1;32m      9\u001b[0m \u001b[0mneutdata\u001b[0m \u001b[0;34m=\u001b[0m \u001b[0mpd\u001b[0m\u001b[0;34m.\u001b[0m\u001b[0mconcat\u001b[0m\u001b[0;34m(\u001b[0m\u001b[0mneutdata\u001b[0m\u001b[0;34m)\u001b[0m\u001b[0;34m\u001b[0m\u001b[0;34m\u001b[0m\u001b[0m\n",
      "\u001b[0;32m/fh/fast/bloom_j/software/conda/envs/BloomLab_v2/lib/python3.6/site-packages/neutcurve/parse_excel.py\u001b[0m in \u001b[0;36mparseRachelStyle2019\u001b[0;34m(excelfile, sheet_mapping)\u001b[0m\n\u001b[1;32m     55\u001b[0m     \u001b[0mextra_sheets\u001b[0m \u001b[0;34m=\u001b[0m \u001b[0mset\u001b[0m\u001b[0;34m(\u001b[0m\u001b[0msheet_data\u001b[0m\u001b[0;34m)\u001b[0m \u001b[0;34m-\u001b[0m \u001b[0mset\u001b[0m\u001b[0;34m(\u001b[0m\u001b[0msheet_mapping\u001b[0m\u001b[0;34m)\u001b[0m\u001b[0;34m\u001b[0m\u001b[0;34m\u001b[0m\u001b[0m\n\u001b[1;32m     56\u001b[0m     \u001b[0;32mif\u001b[0m \u001b[0mextra_sheets\u001b[0m\u001b[0;34m:\u001b[0m\u001b[0;34m\u001b[0m\u001b[0;34m\u001b[0m\u001b[0m\n\u001b[0;32m---> 57\u001b[0;31m         raise ValueError(f\"`excelfile` {excelfile} has the following extra \"\n\u001b[0m\u001b[1;32m     58\u001b[0m                          f\"sheets not in `sheet_mapping`: {extra_sheets}\")\n\u001b[1;32m     59\u001b[0m \u001b[0;34m\u001b[0m\u001b[0m\n",
      "\u001b[0;31mValueError\u001b[0m: `excelfile` data/neut_plate_reader_data/WHOVic11_NeutralizationAssay.xlsx has the following extra sheets not in `sheet_mapping`: {'F159G', 'K160T'}"
     ]
    }
   ],
   "source": [
    "neutdata = []  # store all data frame, then concatenate at end\n",
    "\n",
    "for sampledict in neut_config:\n",
    "    assert len(sampledict) == 1\n",
    "    sampleset, kwargs = list(sampledict.items())[0]\n",
    "    print(f\"Parsing data for {sampleset}...\")\n",
    "    neutdata.append(neutcurve.parse_excel.parseRachelStyle2019(**kwargs))\n",
    "\n",
    "neutdata = pd.concat(neutdata)\n",
    "print(f\"Read data for {len(neutdata.groupby('serum'))} sera and \"\n",
    "      f\"{len(neutdata.groupby(['serum', 'virus']))} serum / virus pairs.\")\n",
    "      \n",
    "assert neutdata['virus'].unique() == ['wt'], 'expected data only for wildtype virus'"
   ]
  },
  {
   "cell_type": "code",
   "execution_count": null,
   "metadata": {},
   "outputs": [],
   "source": []
  },
  {
   "cell_type": "code",
   "execution_count": null,
   "metadata": {},
   "outputs": [],
   "source": []
  },
  {
   "cell_type": "code",
   "execution_count": null,
   "metadata": {},
   "outputs": [],
   "source": []
  },
  {
   "cell_type": "code",
   "execution_count": null,
   "metadata": {},
   "outputs": [],
   "source": []
  },
  {
   "cell_type": "code",
   "execution_count": null,
   "metadata": {},
   "outputs": [],
   "source": []
  },
  {
   "cell_type": "code",
   "execution_count": null,
   "metadata": {},
   "outputs": [],
   "source": []
  },
  {
   "cell_type": "code",
   "execution_count": null,
   "metadata": {},
   "outputs": [],
   "source": []
  },
  {
   "cell_type": "code",
   "execution_count": null,
   "metadata": {},
   "outputs": [],
   "source": []
  },
  {
   "cell_type": "code",
   "execution_count": null,
   "metadata": {},
   "outputs": [],
   "source": []
  },
  {
   "cell_type": "code",
   "execution_count": null,
   "metadata": {},
   "outputs": [],
   "source": []
  },
  {
   "cell_type": "code",
   "execution_count": null,
   "metadata": {},
   "outputs": [],
   "source": [
    "mut = ['f9437neg', 'f9437post-infection']\n",
    "style_cycle = ['solid', 'solid', 'solid', 'solid']\n",
    "fit_cycle = [sigmoid, expo]\n",
    "fmt_cycle = ['^','o']\n",
    "\n",
    "PlotNeutralizationCurves(f9437, 'serum_dilution', \n",
    "                         mut,\n",
    "                         './plots/ferret_Pitt_9437.pdf', \n",
    "                         color_cycle=[color1, 'k'],\n",
    "                         style_cycle=style_cycle,\n",
    "                         fit_cycle=fit_cycle,\n",
    "                         fmt_cycle=fmt_cycle,\n",
    "                         linewidth = 2.5,\n",
    "                         fit_curve = True, \n",
    "                         verbose = True,\n",
    "                         x_lim =[1E-5,0.5], y_lim = [-0.1,1.2], \n",
    "                         x_label_override='serum dilution')\n",
    "\n",
    "showPDF('./plots/ferret_Pitt_9437.pdf')"
   ]
  },
  {
   "cell_type": "code",
   "execution_count": null,
   "metadata": {},
   "outputs": [],
   "source": [
    "mut = ['WHOCC']\n",
    "style_cycle = ['solid', 'solid', 'solid', 'solid']\n",
    "fit_cycle = [expo_fixed_topbottom]\n",
    "fmt_cycle = ['^','o']\n",
    "\n",
    "PlotNeutralizationCurves(fWHOCC_Perth2009, 'serum_dilution', \n",
    "                         mut,\n",
    "                         './plots/ferret_WHOCC_Perth2009.pdf', \n",
    "                         color_cycle=['k'],\n",
    "                         style_cycle=style_cycle,\n",
    "                         fit_cycle=fit_cycle,\n",
    "                         fmt_cycle=fmt_cycle,\n",
    "                         linewidth = 2.5,\n",
    "                         fit_curve = True, \n",
    "                         verbose = True,\n",
    "                         x_lim =[1E-5,0.5], y_lim = [-0.1,1.2], \n",
    "                         x_label_override='serum dilution')\n",
    "\n",
    "showPDF('./plots/ferret_WHOCC_Perth2009.pdf')"
   ]
  },
  {
   "cell_type": "code",
   "execution_count": null,
   "metadata": {},
   "outputs": [],
   "source": [
    "mut = ['WHOCCVic']\n",
    "style_cycle = ['solid', 'solid', 'solid', 'solid']\n",
    "fit_cycle = [expo]\n",
    "fmt_cycle = ['^','o']\n",
    "\n",
    "PlotNeutralizationCurves(fWHOCC_Vic11, 'serum_dilution', \n",
    "                         mut,\n",
    "                         './plots/ferret_WHOCC_Vic11.pdf', \n",
    "                         color_cycle=['k'],\n",
    "                         style_cycle=style_cycle,\n",
    "                         fit_cycle=fit_cycle,\n",
    "                         fmt_cycle=fmt_cycle,\n",
    "                         linewidth = 2.5,\n",
    "                         fit_curve = True, \n",
    "                         verbose = True,\n",
    "                         x_lim =[1E-5,0.5], y_lim = [-0.1,1.2], \n",
    "                         x_label_override='serum dilution')\n",
    "\n",
    "showPDF('./plots/ferret_WHOCC_Vic11.pdf')"
   ]
  },
  {
   "cell_type": "code",
   "execution_count": null,
   "metadata": {},
   "outputs": [],
   "source": []
  }
 ],
 "metadata": {
  "kernelspec": {
   "display_name": "Python 3",
   "language": "python",
   "name": "python3"
  },
  "language_info": {
   "codemirror_mode": {
    "name": "ipython",
    "version": 3
   },
   "file_extension": ".py",
   "mimetype": "text/x-python",
   "name": "python",
   "nbconvert_exporter": "python",
   "pygments_lexer": "ipython3",
   "version": "3.6.7"
  }
 },
 "nbformat": 4,
 "nbformat_minor": 2
}
